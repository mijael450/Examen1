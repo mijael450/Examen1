{
  "nbformat": 4,
  "nbformat_minor": 0,
  "metadata": {
    "colab": {
      "provenance": []
    },
    "kernelspec": {
      "name": "python3",
      "display_name": "Python 3"
    },
    "language_info": {
      "name": "python"
    }
  },
  "cells": [
    {
      "cell_type": "code",
      "execution_count": 1,
      "metadata": {
        "id": "rStNWIxj7LzZ"
      },
      "outputs": [],
      "source": [
        "def secant_method(f, x0, x1, tol=1e-6, max_iter=100):\n",
        "    \"\"\"\n",
        "    Secant method for finding the root of a function.\n",
        "\n",
        "    # Parameters\n",
        "    * ``f``: The function for which to find the root.\n",
        "    * ``x0``, x1: Initial guesses for the root.\n",
        "    * ``tol``: Tolerance for convergence (default: 1e-6).\n",
        "    * ``max_iter``: Maximum number of iterations (default: 100).\n",
        "\n",
        "    # Returns\n",
        "    * ``x_curr`` The approximate root of the function.\n",
        "    * ``iter_count`` The number of iterations taken.\n",
        "    \"\"\"\n",
        "    x_prev = x0\n",
        "    x_curr = x1\n",
        "    iter_count = 0\n",
        "    #Crear una variable para no realizar llamadas inecesarias\n",
        "    fx_curr=  f(x_curr)\n",
        "\n",
        "    while abs(fx_curr) > tol and iter_count < max_iter:\n",
        "      #Actualizar la variable segun sea necesario\n",
        "        fx_curr=  f(x_curr)\n",
        "        x_next = x_curr - fx_curr * (x_curr - x_prev) / (fx_curr - f(x_prev))\n",
        "        x_prev = x_curr\n",
        "        x_curr = x_next\n",
        "        iter_count += 1\n",
        "\n",
        "    return x_curr, iter_count"
      ]
    },
    {
      "cell_type": "code",
      "source": [
        "i = 0\n",
        "\n",
        "\n",
        "def func(x):\n",
        "    global i\n",
        "    i += 1\n",
        "    y = x**3 - 3 * x**2 + x - 1\n",
        "    print(f\"Llamada i={i}\\t x={x:.5f}\\t y={y:.2f}\")\n",
        "    return y\n",
        "\n",
        "\n",
        "secant_method(func, x0=2, x1=3)"
      ],
      "metadata": {
        "colab": {
          "base_uri": "https://localhost:8080/"
        },
        "id": "KixLcasb7OPW",
        "outputId": "972bcdf2-4630-4dc4-f552-0103581f6c74"
      },
      "execution_count": 2,
      "outputs": [
        {
          "output_type": "stream",
          "name": "stdout",
          "text": [
            "Llamada i=1\t x=3.00000\t y=2.00\n",
            "Llamada i=2\t x=3.00000\t y=2.00\n",
            "Llamada i=3\t x=2.00000\t y=-3.00\n",
            "Llamada i=4\t x=2.60000\t y=-1.10\n",
            "Llamada i=5\t x=3.00000\t y=2.00\n",
            "Llamada i=6\t x=2.74227\t y=-0.20\n",
            "Llamada i=7\t x=2.60000\t y=-1.10\n",
            "Llamada i=8\t x=2.77296\t y=0.03\n",
            "Llamada i=9\t x=2.74227\t y=-0.20\n",
            "Llamada i=10\t x=2.76922\t y=-0.00\n",
            "Llamada i=11\t x=2.77296\t y=0.03\n",
            "Llamada i=12\t x=2.76929\t y=-0.00\n",
            "Llamada i=13\t x=2.76922\t y=-0.00\n",
            "Llamada i=14\t x=2.76929\t y=0.00\n",
            "Llamada i=15\t x=2.76929\t y=-0.00\n"
          ]
        },
        {
          "output_type": "execute_result",
          "data": {
            "text/plain": [
              "(2.7692923542386314, 7)"
            ]
          },
          "metadata": {},
          "execution_count": 2
        }
      ]
    },
    {
      "cell_type": "code",
      "source": [
        "i = 0\n",
        "import math\n",
        "\n",
        "\n",
        "def func(x):\n",
        "    global i\n",
        "    i += 1\n",
        "    y = math.sin(x) + 0.5\n",
        "    print(f\"Llamada i={i}\\t x={x:.5f}\\t y={y:.2f}\")\n",
        "    return y\n",
        "\n",
        "\n",
        "secant_method(func, x0=2, x1=3)"
      ],
      "metadata": {
        "colab": {
          "base_uri": "https://localhost:8080/"
        },
        "id": "_K5kJNrI7V7H",
        "outputId": "765b7880-5635-4e2a-9a90-0f558da17142"
      },
      "execution_count": 4,
      "outputs": [
        {
          "output_type": "stream",
          "name": "stdout",
          "text": [
            "Llamada i=1\t x=3.00000\t y=0.64\n",
            "Llamada i=2\t x=3.00000\t y=0.64\n",
            "Llamada i=3\t x=2.00000\t y=1.41\n",
            "Llamada i=4\t x=3.83460\t y=-0.14\n",
            "Llamada i=5\t x=3.00000\t y=0.64\n",
            "Llamada i=6\t x=3.68602\t y=-0.02\n",
            "Llamada i=7\t x=3.83460\t y=-0.14\n",
            "Llamada i=8\t x=3.66399\t y=0.00\n",
            "Llamada i=9\t x=3.68602\t y=-0.02\n",
            "Llamada i=10\t x=3.66520\t y=-0.00\n",
            "Llamada i=11\t x=3.66399\t y=0.00\n",
            "Llamada i=12\t x=3.66519\t y=-0.00\n",
            "Llamada i=13\t x=3.66520\t y=-0.00\n"
          ]
        },
        {
          "output_type": "execute_result",
          "data": {
            "text/plain": [
              "(3.6651914291880865, 6)"
            ]
          },
          "metadata": {},
          "execution_count": 4
        }
      ]
    }
  ]
}